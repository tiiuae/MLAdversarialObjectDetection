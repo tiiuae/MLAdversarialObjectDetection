{
 "cells": [
  {
   "cell_type": "code",
   "execution_count": 1,
   "id": "a555cb84",
   "metadata": {
    "ExecuteTime": {
     "end_time": "2022-04-24T20:43:01.617570Z",
     "start_time": "2022-04-24T20:43:00.238543Z"
    },
    "pycharm": {
     "name": "#%%\n"
    }
   },
   "outputs": [],
   "source": [
    "def allow_direct_imports_from(dirname):\n",
    "    import sys\n",
    "    if dirname not in sys.path:\n",
    "        sys.path.append(dirname)\n",
    "        \n",
    "allow_direct_imports_from('automl/efficientdet')\n",
    "\n",
    "import os, shutil, matplotlib.pyplot as plt, tensorflow as tf\n",
    "import tf2.infer_lib as infer_lib, util, custom_callbacks, train_data_generator, attacker"
   ]
  },
  {
   "cell_type": "code",
   "execution_count": 2,
   "id": "8630929c",
   "metadata": {
    "ExecuteTime": {
     "end_time": "2022-04-24T20:43:01.671074Z",
     "start_time": "2022-04-24T20:43:01.666489Z"
    },
    "pycharm": {
     "name": "#%%\n"
    }
   },
   "outputs": [],
   "source": [
    "MODEL = 'efficientdet-lite4'\n",
    "\n",
    "def main(download_model=False):\n",
    "    log_dir = util.ensure_empty_dir('log_dir')\n",
    "    gpu = tf.config.list_physical_devices('GPU')[0]\n",
    "    tf.config.experimental.set_memory_growth(gpu, True)\n",
    "\n",
    "    victim_model = attacker.get_victim_model(download_model)\n",
    "    config_override = {'nms_configs': {'iou_thresh': .5, 'score_thresh': .5}}\n",
    "    model = attacker.PatchAttacker(victim_model, 'save_dir_1/patch_20.png',\n",
    "                                   patch_loss_multiplier=0., config_override=config_override,\n",
    "                                   visualize_freq=200)\n",
    "    model.compile(optimizer=tf.keras.optimizers.Adam(learning_rate=1e-3), run_eagerly=False)\n",
    "\n",
    "    datasets: dict = train_data_generator.partition(model.config, 'downloaded_images', 'labels',\n",
    "                                                               batch_size=12, shuffle=True)\n",
    "\n",
    "    train_ds = datasets['train']['dataset']\n",
    "    val_ds = datasets['val']['dataset']\n",
    "    train_len = datasets['train']['length']\n",
    "    val_len = datasets['val']['length']\n",
    "    tb_callback = custom_callbacks.TensorboardCallback(log_dir, write_graph=True, write_steps_per_second=True)\n",
    "    model.tb = tb_callback\n",
    "\n",
    "    save_dir = util.ensure_empty_dir('save_dir')\n",
    "    save_file = 'patch_{epoch:02d}_{val_mean_asr:.4f}.tiff'\n",
    "    history = model.fit(train_ds, validation_data=val_ds, epochs=50, steps_per_epoch=train_len,\n",
    "                        initial_epoch=20,\n",
    "                        validation_steps=val_len,\n",
    "                        callbacks=[tb_callback,\n",
    "                                   tf.keras.callbacks.ModelCheckpoint(os.path.join(save_dir, save_file),\n",
    "                                                                      monitor='val_mean_asr',\n",
    "                                                                      verbose=1,\n",
    "                                                                      save_best_only=False,\n",
    "                                                                      save_weights_only=True,\n",
    "                                                                      mode='auto',\n",
    "                                                                      save_freq='epoch',\n",
    "                                                                      options=None,\n",
    "                                                                      initial_value_threshold=None,\n",
    "                                                                      )\n",
    "                                   ])\n",
    "    patch = model.get_patch().astype('uint8')\n",
    "    plt.imshow(patch)\n",
    "    plt.show()"
   ]
  },
  {
   "cell_type": "code",
   "execution_count": null,
   "id": "17eb5612",
   "metadata": {
    "ExecuteTime": {
     "start_time": "2022-04-24T20:43:01.252Z"
    },
    "scrolled": true,
    "pycharm": {
     "name": "#%%\n"
    }
   },
   "outputs": [
    {
     "name": "stderr",
     "output_type": "stream",
     "text": [
      "Using model in efficientdet-lite4\n",
      "/tmp/__autograph_generated_file30xqcx1w.py:23: UserWarning: `layer.updates` will be removed in a future version. This property should not be used in TensorFlow 2.0, as `updates` are applied automatically.\n",
      "  ag__.for_stmt(ag__.ld(self).updates, None, loop_body, get_state, set_state, (), {'iterate_names': 'u'})\n",
      "/phyadv/automl/efficientdet/utils.py:255: UserWarning: `layer.updates` will be removed in a future version. This property should not be used in TensorFlow 2.0, as `updates` are applied automatically.\n",
      "  for u in self.updates:\n",
      "filtering dataset by label constraints...\n",
      "done. data size is 64115\n",
      "training on 51292 images, validating on 6411\n"
     ]
    },
    {
     "name": "stdout",
     "output_type": "stream",
     "text": [
      "Epoch 21/50\n",
      "WARNING:tensorflow:Using a while_loop for converting NonMaxSuppressionV5\n"
     ]
    },
    {
     "name": "stderr",
     "output_type": "stream",
     "text": [
      "WARNING:tensorflow:Using a while_loop for converting NonMaxSuppressionV5\n"
     ]
    },
    {
     "name": "stdout",
     "output_type": "stream",
     "text": [
      "WARNING:tensorflow:From /usr/local/lib/python3.8/dist-packages/tensorflow/python/util/deprecation.py:616: calling map_fn_v2 (from tensorflow.python.ops.map_fn) with dtype is deprecated and will be removed in a future version.\n",
      "Instructions for updating:\n",
      "Use fn_output_signature instead\n"
     ]
    },
    {
     "name": "stderr",
     "output_type": "stream",
     "text": [
      "WARNING:tensorflow:From /usr/local/lib/python3.8/dist-packages/tensorflow/python/util/deprecation.py:616: calling map_fn_v2 (from tensorflow.python.ops.map_fn) with dtype is deprecated and will be removed in a future version.\n",
      "Instructions for updating:\n",
      "Use fn_output_signature instead\n"
     ]
    },
    {
     "name": "stdout",
     "output_type": "stream",
     "text": [
      "WARNING:tensorflow:Using a while_loop for converting NonMaxSuppressionV5\n"
     ]
    },
    {
     "name": "stderr",
     "output_type": "stream",
     "text": [
      "WARNING:tensorflow:Using a while_loop for converting NonMaxSuppressionV5\n"
     ]
    },
    {
     "name": "stdout",
     "output_type": "stream",
     "text": [
      "4275/4275 [==============================] - ETA: 0s - loss: 6.4709 - mean_asr: 0.5880WARNING:tensorflow:Using a while_loop for converting NonMaxSuppressionV5\n"
     ]
    },
    {
     "name": "stderr",
     "output_type": "stream",
     "text": [
      "WARNING:tensorflow:Using a while_loop for converting NonMaxSuppressionV5\n"
     ]
    },
    {
     "name": "stdout",
     "output_type": "stream",
     "text": [
      "\n",
      "Epoch 21: saving model to save_dir/patch_21_0.6203.tiff\n",
      "4275/4275 [==============================] - 3348s 775ms/step - loss: 6.4708 - mean_asr: 0.5880 - val_loss: 6.0274 - val_mean_asr: 0.6203\n",
      "Epoch 22/50\n",
      "4275/4275 [==============================] - ETA: 0s - loss: 6.4018 - mean_asr: 0.5971\n",
      "Epoch 22: saving model to save_dir/patch_22_0.6282.tiff\n",
      "4275/4275 [==============================] - 3300s 772ms/step - loss: 6.4016 - mean_asr: 0.5971 - val_loss: 5.8630 - val_mean_asr: 0.6282\n",
      "Epoch 23/50\n",
      " 968/4275 [=====>........................] - ETA: 39:08 - loss: 6.3638 - mean_asr: 0.5980"
     ]
    },
    {
     "name": "stderr",
     "output_type": "stream",
     "text": [
      "IOPub message rate exceeded.\n",
      "The notebook server will temporarily stop sending output\n",
      "to the client in order to avoid crashing it.\n",
      "To change this limit, set the config variable\n",
      "`--NotebookApp.iopub_msg_rate_limit`.\n",
      "\n",
      "Current values:\n",
      "NotebookApp.iopub_msg_rate_limit=1000.0 (msgs/sec)\n",
      "NotebookApp.rate_limit_window=3.0 (secs)\n",
      "\n"
     ]
    },
    {
     "name": "stdout",
     "output_type": "stream",
     "text": [
      "4077/4275 [===========================>..] - ETA: 2:20 - loss: 6.1972 - mean_asr: 0.6235"
     ]
    },
    {
     "name": "stderr",
     "output_type": "stream",
     "text": [
      "IOPub message rate exceeded.\n",
      "The notebook server will temporarily stop sending output\n",
      "to the client in order to avoid crashing it.\n",
      "To change this limit, set the config variable\n",
      "`--NotebookApp.iopub_msg_rate_limit`.\n",
      "\n",
      "Current values:\n",
      "NotebookApp.iopub_msg_rate_limit=1000.0 (msgs/sec)\n",
      "NotebookApp.rate_limit_window=3.0 (secs)\n",
      "\n"
     ]
    },
    {
     "name": "stdout",
     "output_type": "stream",
     "text": [
      "4275/4275 [==============================] - ETA: 0s - loss: 6.0736 - mean_asr: 0.6375\n",
      "Epoch 29: saving model to save_dir/patch_29_0.6632.tiff\n",
      "4275/4275 [==============================] - 3291s 770ms/step - loss: 6.0734 - mean_asr: 0.6375 - val_loss: 7.6736 - val_mean_asr: 0.6632\n",
      "Epoch 30/50\n",
      "4275/4275 [==============================] - ETA: 0s - loss: 6.0392 - mean_asr: 0.6411\n",
      "Epoch 30: saving model to save_dir/patch_30_0.6708.tiff\n",
      "4275/4275 [==============================] - 3292s 770ms/step - loss: 6.0391 - mean_asr: 0.6411 - val_loss: 6.5772 - val_mean_asr: 0.6708\n",
      "Epoch 31/50\n",
      "4275/4275 [==============================] - ETA: 0s - loss: 6.0001 - mean_asr: 0.6451\n",
      "Epoch 31: saving model to save_dir/patch_31_0.6700.tiff\n",
      "4275/4275 [==============================] - 3293s 770ms/step - loss: 6.0001 - mean_asr: 0.6451 - val_loss: 5.1116 - val_mean_asr: 0.6700\n",
      "Epoch 32/50\n",
      "4275/4275 [==============================] - ETA: 0s - loss: 5.9400 - mean_asr: 0.6521\n",
      "Epoch 33: saving model to save_dir/patch_33_0.6794.tiff\n",
      "4275/4275 [==============================] - 3292s 770ms/step - loss: 5.9397 - mean_asr: 0.6521 - val_loss: 5.6276 - val_mean_asr: 0.6794\n",
      "Epoch 34/50\n",
      "4275/4275 [==============================] - ETA: 0s - loss: 5.9210 - mean_asr: 0.6538\n",
      "Epoch 34: saving model to save_dir/patch_34_0.6861.tiff\n",
      "4275/4275 [==============================] - 3292s 770ms/step - loss: 5.9210 - mean_asr: 0.6538 - val_loss: 5.6515 - val_mean_asr: 0.6861\n",
      "Epoch 35/50\n",
      "4275/4275 [==============================] - ETA: 0s - loss: 5.8895 - mean_asr: 0.6568\n",
      "Epoch 35: saving model to save_dir/patch_35_0.6833.tiff\n",
      "4275/4275 [==============================] - 3287s 769ms/step - loss: 5.8895 - mean_asr: 0.6568 - val_loss: 4.4678 - val_mean_asr: 0.6833\n",
      "Epoch 36/50\n",
      "4275/4275 [==============================] - ETA: 0s - loss: 5.8595 - mean_asr: 0.6611\n",
      "Epoch 36: saving model to save_dir/patch_36_0.6814.tiff\n",
      "4275/4275 [==============================] - 3286s 769ms/step - loss: 5.8596 - mean_asr: 0.6611 - val_loss: 5.3897 - val_mean_asr: 0.6814\n",
      "Epoch 37/50\n",
      "4275/4275 [==============================] - ETA: 0s - loss: 5.8406 - mean_asr: 0.6614\n",
      "Epoch 37: saving model to save_dir/patch_37_0.6910.tiff\n",
      "4275/4275 [==============================] - 3283s 768ms/step - loss: 5.8405 - mean_asr: 0.6614 - val_loss: 6.0611 - val_mean_asr: 0.6910\n",
      "Epoch 38/50\n",
      "4275/4275 [==============================] - ETA: 0s - loss: 5.8132 - mean_asr: 0.6656\n",
      "Epoch 38: saving model to save_dir/patch_38_0.6915.tiff\n",
      "4275/4275 [==============================] - 3288s 769ms/step - loss: 5.8131 - mean_asr: 0.6656 - val_loss: 5.8055 - val_mean_asr: 0.6915\n",
      "Epoch 39/50\n",
      "1893/4275 [============>.................] - ETA: 28:01 - loss: 5.7913 - mean_asr: 0.6672"
     ]
    },
    {
     "name": "stderr",
     "output_type": "stream",
     "text": [
      "IOPub message rate exceeded.\n",
      "The notebook server will temporarily stop sending output\n",
      "to the client in order to avoid crashing it.\n",
      "To change this limit, set the config variable\n",
      "`--NotebookApp.iopub_msg_rate_limit`.\n",
      "\n",
      "Current values:\n",
      "NotebookApp.iopub_msg_rate_limit=1000.0 (msgs/sec)\n",
      "NotebookApp.rate_limit_window=3.0 (secs)\n",
      "\n"
     ]
    },
    {
     "name": "stdout",
     "output_type": "stream",
     "text": [
      "4275/4275 [==============================] - ETA: 0s - loss: 5.7574 - mean_asr: 0.6686\n",
      "Epoch 40: saving model to save_dir/patch_40_0.6955.tiff\n",
      "4275/4275 [==============================] - 3287s 769ms/step - loss: 5.7574 - mean_asr: 0.6686 - val_loss: 6.8655 - val_mean_asr: 0.6955\n",
      "Epoch 41/50\n",
      " 884/4275 [=====>........................] - ETA: 39:51 - loss: 5.7204 - mean_asr: 0.6725"
     ]
    }
   ],
   "source": [
    "main()"
   ]
  }
 ],
 "metadata": {
  "kernelspec": {
   "display_name": "Python 3",
   "language": "python",
   "name": "python3"
  },
  "language_info": {
   "codemirror_mode": {
    "name": "ipython",
    "version": 3
   },
   "file_extension": ".py",
   "mimetype": "text/x-python",
   "name": "python",
   "nbconvert_exporter": "python",
   "pygments_lexer": "ipython3",
   "version": "3.8.10"
  },
  "varInspector": {
   "cols": {
    "lenName": 16,
    "lenType": 16,
    "lenVar": 40
   },
   "kernels_config": {
    "python": {
     "delete_cmd_postfix": "",
     "delete_cmd_prefix": "del ",
     "library": "var_list.py",
     "varRefreshCmd": "print(var_dic_list())"
    },
    "r": {
     "delete_cmd_postfix": ") ",
     "delete_cmd_prefix": "rm(",
     "library": "var_list.r",
     "varRefreshCmd": "cat(var_dic_list()) "
    }
   },
   "types_to_exclude": [
    "module",
    "function",
    "builtin_function_or_method",
    "instance",
    "_Feature"
   ],
   "window_display": false
  }
 },
 "nbformat": 4,
 "nbformat_minor": 5
}