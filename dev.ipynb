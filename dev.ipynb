{
 "cells": [
  {
   "cell_type": "code",
   "execution_count": 1,
   "id": "75dbcce0",
   "metadata": {},
   "outputs": [],
   "source": [
    "import sys\n",
    "sys.path.append('automl/efficientnetv2/')\n",
    "from tensorflow import keras\n",
    "from automl.efficientnetv2 import effnetv2_model"
   ]
  },
  {
   "cell_type": "code",
   "execution_count": 2,
   "id": "8630929c",
   "metadata": {},
   "outputs": [
    {
     "name": "stderr",
     "output_type": "stream",
     "text": [
      "2022-04-02 00:37:45.274849: I tensorflow/stream_executor/cuda/cuda_gpu_executor.cc:936] successful NUMA node read from SysFS had negative value (-1), but there must be at least one NUMA node, so returning NUMA node zero\n",
      "2022-04-02 00:37:45.279117: I tensorflow/stream_executor/cuda/cuda_gpu_executor.cc:936] successful NUMA node read from SysFS had negative value (-1), but there must be at least one NUMA node, so returning NUMA node zero\n",
      "2022-04-02 00:37:45.279254: I tensorflow/stream_executor/cuda/cuda_gpu_executor.cc:936] successful NUMA node read from SysFS had negative value (-1), but there must be at least one NUMA node, so returning NUMA node zero\n",
      "2022-04-02 00:37:45.279813: I tensorflow/core/platform/cpu_feature_guard.cc:151] This TensorFlow binary is optimized with oneAPI Deep Neural Network Library (oneDNN) to use the following CPU instructions in performance-critical operations:  AVX2 FMA\n",
      "To enable them in other operations, rebuild TensorFlow with the appropriate compiler flags.\n",
      "2022-04-02 00:37:45.318617: I tensorflow/stream_executor/cuda/cuda_gpu_executor.cc:936] successful NUMA node read from SysFS had negative value (-1), but there must be at least one NUMA node, so returning NUMA node zero\n",
      "2022-04-02 00:37:45.319103: I tensorflow/stream_executor/cuda/cuda_gpu_executor.cc:936] successful NUMA node read from SysFS had negative value (-1), but there must be at least one NUMA node, so returning NUMA node zero\n",
      "2022-04-02 00:37:45.319446: I tensorflow/stream_executor/cuda/cuda_gpu_executor.cc:936] successful NUMA node read from SysFS had negative value (-1), but there must be at least one NUMA node, so returning NUMA node zero\n",
      "2022-04-02 00:37:45.716804: I tensorflow/stream_executor/cuda/cuda_gpu_executor.cc:936] successful NUMA node read from SysFS had negative value (-1), but there must be at least one NUMA node, so returning NUMA node zero\n",
      "2022-04-02 00:37:45.716989: I tensorflow/stream_executor/cuda/cuda_gpu_executor.cc:936] successful NUMA node read from SysFS had negative value (-1), but there must be at least one NUMA node, so returning NUMA node zero\n",
      "2022-04-02 00:37:45.717124: I tensorflow/stream_executor/cuda/cuda_gpu_executor.cc:936] successful NUMA node read from SysFS had negative value (-1), but there must be at least one NUMA node, so returning NUMA node zero\n",
      "2022-04-02 00:37:45.717244: I tensorflow/core/common_runtime/gpu/gpu_device.cc:1525] Created device /job:localhost/replica:0/task:0/device:GPU:0 with 2635 MB memory:  -> device: 0, name: Quadro T2000 with Max-Q Design, pci bus id: 0000:01:00.0, compute capability: 7.5\n"
     ]
    }
   ],
   "source": [
    "net = effnetv2_model.get_model('efficientnetv2-s',\n",
    "              include_top=True,\n",
    "              weights=None,\n",
    "              with_endpoints=False)"
   ]
  },
  {
   "cell_type": "code",
   "execution_count": 3,
   "id": "17eb5612",
   "metadata": {},
   "outputs": [
    {
     "name": "stdout",
     "output_type": "stream",
     "text": [
      "Sat Apr  2 00:37:49 2022       \r\n",
      "+-----------------------------------------------------------------------------+\r\n",
      "| NVIDIA-SMI 510.47.03    Driver Version: 510.47.03    CUDA Version: 11.6     |\r\n",
      "|-------------------------------+----------------------+----------------------+\r\n",
      "| GPU  Name        Persistence-M| Bus-Id        Disp.A | Volatile Uncorr. ECC |\r\n",
      "| Fan  Temp  Perf  Pwr:Usage/Cap|         Memory-Usage | GPU-Util  Compute M. |\r\n",
      "|                               |                      |               MIG M. |\r\n",
      "|===============================+======================+======================|\r\n",
      "|   0  Quadro T2000 wi...  On   | 00000000:01:00.0 Off |                  N/A |\r\n",
      "| N/A   45C    P0    11W /  N/A |   2862MiB /  4096MiB |      0%      Default |\r\n",
      "|                               |                      |                  N/A |\r\n",
      "+-------------------------------+----------------------+----------------------+\r\n",
      "                                                                               \r\n",
      "+-----------------------------------------------------------------------------+\r\n",
      "| Processes:                                                                  |\r\n",
      "|  GPU   GI   CI        PID   Type   Process name                  GPU Memory |\r\n",
      "|        ID   ID                                                   Usage      |\r\n",
      "|=============================================================================|\r\n",
      "|    0   N/A  N/A      1433      G   /usr/lib/xorg/Xorg                  4MiB |\r\n",
      "|    0   N/A  N/A      2414      G   /usr/lib/xorg/Xorg                  4MiB |\r\n",
      "|    0   N/A  N/A     24086      C   .../.venvs/phyadv/bin/python     2849MiB |\r\n",
      "+-----------------------------------------------------------------------------+\r\n"
     ]
    }
   ],
   "source": [
    "!nvidia-smi"
   ]
  },
  {
   "cell_type": "code",
   "execution_count": 4,
   "id": "9ea26168",
   "metadata": {
    "scrolled": true
   },
   "outputs": [
    {
     "name": "stdout",
     "output_type": "stream",
     "text": [
      "Model: \"model\"\n",
      "_________________________________________________________________\n",
      " Layer (type)                Output Shape              Param #   \n",
      "=================================================================\n",
      " input_2 (InputLayer)        [(None, 224, 224, 3)]     0         \n",
      "                                                                 \n",
      " stem (Stem)                 (None, 112, 112, 24)      744       \n",
      "                                                                 \n",
      " blocks_0 (FusedMBConvBlock)  (None, 112, 112, 24)     5280      \n",
      "                                                                 \n",
      " blocks_1 (FusedMBConvBlock)  (None, 112, 112, 24)     5280      \n",
      "                                                                 \n",
      " blocks_2 (FusedMBConvBlock)  (None, 56, 56, 48)       25920     \n",
      "                                                                 \n",
      " blocks_3 (FusedMBConvBlock)  (None, 56, 56, 48)       93120     \n",
      "                                                                 \n",
      " blocks_4 (FusedMBConvBlock)  (None, 56, 56, 48)       93120     \n",
      "                                                                 \n",
      " blocks_5 (FusedMBConvBlock)  (None, 56, 56, 48)       93120     \n",
      "                                                                 \n",
      " blocks_6 (FusedMBConvBlock)  (None, 28, 28, 64)       96256     \n",
      "                                                                 \n",
      " blocks_7 (FusedMBConvBlock)  (None, 28, 28, 64)       165120    \n",
      "                                                                 \n",
      " blocks_8 (FusedMBConvBlock)  (None, 28, 28, 64)       165120    \n",
      "                                                                 \n",
      " blocks_9 (FusedMBConvBlock)  (None, 28, 28, 64)       165120    \n",
      "                                                                 \n",
      " blocks_10 (MBConvBlock)     (None, 14, 14, 128)       62480     \n",
      "                                                                 \n",
      " blocks_11 (MBConvBlock)     (None, 14, 14, 128)       173600    \n",
      "                                                                 \n",
      " blocks_12 (MBConvBlock)     (None, 14, 14, 128)       173600    \n",
      "                                                                 \n",
      " blocks_13 (MBConvBlock)     (None, 14, 14, 128)       173600    \n",
      "                                                                 \n",
      " blocks_14 (MBConvBlock)     (None, 14, 14, 128)       173600    \n",
      "                                                                 \n",
      " blocks_15 (MBConvBlock)     (None, 14, 14, 128)       173600    \n",
      "                                                                 \n",
      " blocks_16 (MBConvBlock)     (None, 14, 14, 160)       284832    \n",
      "                                                                 \n",
      " blocks_17 (MBConvBlock)     (None, 14, 14, 160)       401960    \n",
      "                                                                 \n",
      " blocks_18 (MBConvBlock)     (None, 14, 14, 160)       401960    \n",
      "                                                                 \n",
      " blocks_19 (MBConvBlock)     (None, 14, 14, 160)       401960    \n",
      "                                                                 \n",
      " blocks_20 (MBConvBlock)     (None, 14, 14, 160)       401960    \n",
      "                                                                 \n",
      " blocks_21 (MBConvBlock)     (None, 14, 14, 160)       401960    \n",
      "                                                                 \n",
      " blocks_22 (MBConvBlock)     (None, 14, 14, 160)       401960    \n",
      "                                                                 \n",
      " blocks_23 (MBConvBlock)     (None, 14, 14, 160)       401960    \n",
      "                                                                 \n",
      " blocks_24 (MBConvBlock)     (None, 14, 14, 160)       401960    \n",
      "                                                                 \n",
      " blocks_25 (MBConvBlock)     (None, 7, 7, 256)         494504    \n",
      "                                                                 \n",
      " blocks_26 (MBConvBlock)     (None, 7, 7, 256)         1011776   \n",
      "                                                                 \n",
      " blocks_27 (MBConvBlock)     (None, 7, 7, 256)         1011776   \n",
      "                                                                 \n",
      " blocks_28 (MBConvBlock)     (None, 7, 7, 256)         1011776   \n",
      "                                                                 \n",
      " blocks_29 (MBConvBlock)     (None, 7, 7, 256)         1011776   \n",
      "                                                                 \n",
      " blocks_30 (MBConvBlock)     (None, 7, 7, 256)         1011776   \n",
      "                                                                 \n",
      " blocks_31 (MBConvBlock)     (None, 7, 7, 256)         1011776   \n",
      "                                                                 \n",
      " blocks_32 (MBConvBlock)     (None, 7, 7, 256)         1011776   \n",
      "                                                                 \n",
      " blocks_33 (MBConvBlock)     (None, 7, 7, 256)         1011776   \n",
      "                                                                 \n",
      " blocks_34 (MBConvBlock)     (None, 7, 7, 256)         1011776   \n",
      "                                                                 \n",
      " blocks_35 (MBConvBlock)     (None, 7, 7, 256)         1011776   \n",
      "                                                                 \n",
      " blocks_36 (MBConvBlock)     (None, 7, 7, 256)         1011776   \n",
      "                                                                 \n",
      " blocks_37 (MBConvBlock)     (None, 7, 7, 256)         1011776   \n",
      "                                                                 \n",
      " blocks_38 (MBConvBlock)     (None, 7, 7, 256)         1011776   \n",
      "                                                                 \n",
      " blocks_39 (MBConvBlock)     (None, 7, 7, 256)         1011776   \n",
      "                                                                 \n",
      " head (Head)                 (None, 1280)              332800    \n",
      "                                                                 \n",
      " dense (Dense)               (None, 1000)              1281000   \n",
      "                                                                 \n",
      "=================================================================\n",
      "Total params: 21,612,360\n",
      "Trainable params: 21,458,488\n",
      "Non-trainable params: 153,872\n",
      "_________________________________________________________________\n"
     ]
    }
   ],
   "source": [
    "net.summary()"
   ]
  },
  {
   "cell_type": "code",
   "execution_count": 5,
   "id": "f82cce96",
   "metadata": {},
   "outputs": [
    {
     "data": {
      "text/plain": [
       "<KerasTensor: shape=(None, 1000) dtype=float32 (created by layer 'efficientnetv2-s')>"
      ]
     },
     "execution_count": 5,
     "metadata": {},
     "output_type": "execute_result"
    }
   ],
   "source": [
    "net.output"
   ]
  },
  {
   "cell_type": "code",
   "execution_count": 16,
   "id": "dd8902a9",
   "metadata": {},
   "outputs": [
    {
     "data": {
      "text/plain": [
       "<KerasTensor: shape=(None, None, None, 3) dtype=float32 (created by layer 'input_3')>"
      ]
     },
     "execution_count": 16,
     "metadata": {},
     "output_type": "execute_result"
    }
   ],
   "source": [
    "net.input"
   ]
  },
  {
   "cell_type": "code",
   "execution_count": null,
   "id": "6eedf667",
   "metadata": {},
   "outputs": [],
   "source": [
    "train_dir = 'downloaded_images/'"
   ]
  }
 ],
 "metadata": {
  "kernelspec": {
   "display_name": "phyadv",
   "language": "python",
   "name": "phyadv"
  },
  "language_info": {
   "codemirror_mode": {
    "name": "ipython",
    "version": 3
   },
   "file_extension": ".py",
   "mimetype": "text/x-python",
   "name": "python",
   "nbconvert_exporter": "python",
   "pygments_lexer": "ipython3",
   "version": "3.8.10"
  }
 },
 "nbformat": 4,
 "nbformat_minor": 5
}
